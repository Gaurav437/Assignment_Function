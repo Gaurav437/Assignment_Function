{
  "nbformat": 4,
  "nbformat_minor": 0,
  "metadata": {
    "colab": {
      "provenance": []
    },
    "kernelspec": {
      "name": "python3",
      "display_name": "Python 3"
    },
    "language_info": {
      "name": "python"
    }
  },
  "cells": [
    {
      "cell_type": "markdown",
      "source": [
        "**Functions**"
      ],
      "metadata": {
        "id": "zUL1r5wshFuf"
      }
    },
    {
      "cell_type": "markdown",
      "source": [
        "**Theoritical Questions**\n",
        "\n",
        "Q1. What is the difference between a function and a method in Python?\n",
        "    \n",
        "  -  Functions are structured and reusable block of code to perform a specific task whereas Methods are also functions but are associated to an object. Key difference is that functions are independent and menthods are bound with an object.\n",
        "\n",
        "Q2. Explain the concept of function arguments and parameters in Python.\n",
        "\n",
        "  -  Functions arguments(parameters) are variables that are passed into a function, it can have multiple arguments or none at all.\n",
        "\n",
        "Q3. What are the different ways to define and call a function in Python?\n",
        "\n",
        "   - To define a function in python a keyword 'def' needs to be used and to call a function there are multiple ways/keywords like 'print','return','next'.\n",
        "\n",
        "Q4.  What is the purpose of the `return` statement in a Python function?.\n",
        "\n",
        "   -   It determines the value that function will return and used to call the function. If 'return' is not added in function then the function defaults to returning None.\n",
        "\n",
        "Q5. What are iterators in Python and how do they differ from iterables?\n",
        "\n",
        "   - Iterators are the intermediate steps where we create an object that can be iterated.\n",
        "   Iterables are basically any data structure in python which are capable of returning its elements one at a time. Iterables can be iterated by tranforming them into iterators.\n",
        "\n",
        "Q6. Explain the concept of generators in Python and how they are defined.\n",
        "\n",
        "   - Generators are a simple way to create iterators using functions and we use yeild keyword instead of return to create iterators and to run/call them we use next keyword similarly used for iteration.\n",
        "\n",
        "Q7. What are the advantages of using generators over regular functions?\n",
        "\n",
        "   - Generators takes less time to get executed in comparison to regular function. Regular functions use more memory space whereas generator function use less memory space which makes it execution faster.\n",
        "\n",
        "Q8. What is a lambda function in Python and when is it typically used?\n",
        "\n",
        "   - Lambda functions are anonymous functions which are also called shorthand functions. For lambda function we use lambda keyword and they are used for creating small, throwaway functions without the need to formally define a function using def.\n",
        "\n",
        "Q9. Explain the purpose and usage of the `map()` function in Python.\n",
        "\n",
        "   - The map function executes a specified function for each of items of an iterable(like list,tuple). It can be used to perform a specified fuction to all the elements of a list/iterables.\n",
        "\n",
        "Q10.What is the difference between `map()`, `reduce()`, and `filter()` functions in Python?\n",
        "\n",
        "  - Map, Reduce and Filter, all of these functions gets executed for all the elements of an iterable but have different property of execution.\n",
        "   - Map function applies a given function to all items in an input iterable (like a list) and returns an iterator with the results.\n",
        "   - Reduce function folds/reduce the elements and it applies a given function cumulatively to the items of a sequence, from left to right, to reduce the sequence to a single value. Reduce function needs to imported from functools liabrary whereas Map and Filters are keywords itself.\n",
        "   - Filter function is used for filtering elements from an iterable based on a condition defined by the function.\n",
        "\n",
        "Q11. Using pen & Paper write the internal mechanism for sum operation using  reduce function on this given list:[47,11,42,13];\n",
        "(Attach paper image for this answer) in doc or colab notebook\n",
        "\n",
        "\n",
        "  -/IMG_20250723_153413336.jpg\n",
        "  Image also uploaded in doc"
      ],
      "metadata": {
        "id": "ISJpvatkhjL1"
      }
    },
    {
      "cell_type": "markdown",
      "source": [
        "**Practical Questions**"
      ],
      "metadata": {
        "id": "opwWX0eNxX9t"
      }
    },
    {
      "cell_type": "code",
      "execution_count": null,
      "metadata": {
        "id": "ofJrQHP7g98w"
      },
      "outputs": [],
      "source": [
        "#Q1.Write a Python function that takes a list of numbers as input and returns the sum of all even numbers in the list.\n",
        "\n",
        "def sum_even_numbers(numbers):\n",
        "    sum_even = 0\n",
        "    for num in numbers:\n",
        "        if num % 2 == 0:\n",
        "            sum_even += num\n",
        "    return sum_even"
      ]
    },
    {
      "cell_type": "code",
      "source": [
        "#Q2. Create a Python function that accepts a string and returns the reverse of that string.\n",
        "\n",
        "def reverse_string(string):\n",
        "    return string[::-1]"
      ],
      "metadata": {
        "id": "yNlHXVyPhFJE"
      },
      "execution_count": null,
      "outputs": []
    },
    {
      "cell_type": "code",
      "source": [
        "#Q3.  Implement a Python function that takes a list of integers and returns a new list containing the squares of each number.\n",
        "\n",
        "def square_list(numbers):\n",
        "    squared_numbers = [num ** 2 for num in numbers]\n",
        "    return squared_numbers"
      ],
      "metadata": {
        "id": "EsfSqTm1yNiW"
      },
      "execution_count": 2,
      "outputs": []
    },
    {
      "cell_type": "code",
      "source": [
        "#Q4. Write a Python function that checks if a given number is prime or not from 1 to 200.\n",
        "\n",
        "def is_prime(num):\n",
        "    if num <= 1:\n",
        "        return False\n",
        "    for i in range(2, int(num**0.5) + 1):\n",
        "        if num % i == 0:\n",
        "            return False\n",
        "    return True\n",
        "\n",
        "print(\"Prime numbers from 1 to 200:\")\n",
        "for number in range(1, 201):\n",
        "    if is_prime(number):\n",
        "        print(number)"
      ],
      "metadata": {
        "colab": {
          "base_uri": "https://localhost:8080/"
        },
        "id": "m-ZmK0Mfy49r",
        "outputId": "7819846b-df8d-45b2-d7c1-d7267b586aa6"
      },
      "execution_count": 5,
      "outputs": [
        {
          "output_type": "stream",
          "name": "stdout",
          "text": [
            "Prime numbers from 1 to 200:\n",
            "2\n",
            "3\n",
            "5\n",
            "7\n",
            "11\n",
            "13\n",
            "17\n",
            "19\n",
            "23\n",
            "29\n",
            "31\n",
            "37\n",
            "41\n",
            "43\n",
            "47\n",
            "53\n",
            "59\n",
            "61\n",
            "67\n",
            "71\n",
            "73\n",
            "79\n",
            "83\n",
            "89\n",
            "97\n",
            "101\n",
            "103\n",
            "107\n",
            "109\n",
            "113\n",
            "127\n",
            "131\n",
            "137\n",
            "139\n",
            "149\n",
            "151\n",
            "157\n",
            "163\n",
            "167\n",
            "173\n",
            "179\n",
            "181\n",
            "191\n",
            "193\n",
            "197\n",
            "199\n"
          ]
        }
      ]
    },
    {
      "cell_type": "code",
      "source": [
        "#Q5. Create an iterator class in Python that generates the Fibonacci sequence up to a specified number of terms.\n",
        "\n",
        "def Fibonacci(n):\n",
        "  a = 0\n",
        "  b = 1\n",
        "  for i in range(n):\n",
        "    yield a\n",
        "    a,b = b,a+b"
      ],
      "metadata": {
        "id": "TV145eGj0ZHl"
      },
      "execution_count": 7,
      "outputs": []
    },
    {
      "cell_type": "code",
      "source": [
        "f = Fibonacci(10)"
      ],
      "metadata": {
        "id": "KDHoxtq53UmX"
      },
      "execution_count": 9,
      "outputs": []
    },
    {
      "cell_type": "code",
      "source": [
        "next(f)"
      ],
      "metadata": {
        "colab": {
          "base_uri": "https://localhost:8080/"
        },
        "id": "It4JC2ls3gWh",
        "outputId": "632abf31-e4b3-4771-9632-58e77a1d06fb"
      },
      "execution_count": 10,
      "outputs": [
        {
          "output_type": "execute_result",
          "data": {
            "text/plain": [
              "0"
            ]
          },
          "metadata": {},
          "execution_count": 10
        }
      ]
    },
    {
      "cell_type": "code",
      "source": [
        "next(f)"
      ],
      "metadata": {
        "colab": {
          "base_uri": "https://localhost:8080/"
        },
        "id": "ZS4UifW83kEw",
        "outputId": "d0b97464-aefa-44f8-d792-f41ce46d149c"
      },
      "execution_count": 11,
      "outputs": [
        {
          "output_type": "execute_result",
          "data": {
            "text/plain": [
              "1"
            ]
          },
          "metadata": {},
          "execution_count": 11
        }
      ]
    },
    {
      "cell_type": "code",
      "source": [
        "next(f)"
      ],
      "metadata": {
        "colab": {
          "base_uri": "https://localhost:8080/"
        },
        "id": "2I1I8hKK3mCs",
        "outputId": "a83eee7f-ec73-49fc-81c4-c14dc53c2f3c"
      },
      "execution_count": 12,
      "outputs": [
        {
          "output_type": "execute_result",
          "data": {
            "text/plain": [
              "1"
            ]
          },
          "metadata": {},
          "execution_count": 12
        }
      ]
    },
    {
      "cell_type": "code",
      "source": [
        "next(f)"
      ],
      "metadata": {
        "colab": {
          "base_uri": "https://localhost:8080/"
        },
        "id": "tkep1lze3mbz",
        "outputId": "da72f729-a549-4aaa-fa47-59f8cb77aeaf"
      },
      "execution_count": 13,
      "outputs": [
        {
          "output_type": "execute_result",
          "data": {
            "text/plain": [
              "2"
            ]
          },
          "metadata": {},
          "execution_count": 13
        }
      ]
    },
    {
      "cell_type": "code",
      "source": [
        "next(f)"
      ],
      "metadata": {
        "colab": {
          "base_uri": "https://localhost:8080/"
        },
        "id": "bsGNS8D43ms-",
        "outputId": "428c942e-aa00-4410-89db-c5df8e598c51"
      },
      "execution_count": 14,
      "outputs": [
        {
          "output_type": "execute_result",
          "data": {
            "text/plain": [
              "3"
            ]
          },
          "metadata": {},
          "execution_count": 14
        }
      ]
    },
    {
      "cell_type": "code",
      "source": [
        "next(f)"
      ],
      "metadata": {
        "colab": {
          "base_uri": "https://localhost:8080/"
        },
        "id": "N88VWtrv3nT_",
        "outputId": "c004abf8-b0cb-4955-a38b-82f0d5fcf4d6"
      },
      "execution_count": 15,
      "outputs": [
        {
          "output_type": "execute_result",
          "data": {
            "text/plain": [
              "5"
            ]
          },
          "metadata": {},
          "execution_count": 15
        }
      ]
    },
    {
      "cell_type": "code",
      "source": [
        "#Q6. Write a generator function in Python that yields the powers of 2 up to a given exponent.\n",
        "\n",
        "def sqaure_num(n):\n",
        "  for i in range (n+1):\n",
        "    yield i ** 2"
      ],
      "metadata": {
        "id": "61BGKG953oor"
      },
      "execution_count": 16,
      "outputs": []
    },
    {
      "cell_type": "code",
      "source": [
        "#Q7.  Implement a generator function that reads a file line by line and yields each line as a string.\n",
        "\n",
        "def read_file(file_path):\n",
        "    with open(file_path, 'r') as file:\n",
        "        for line in file:\n",
        "            yield line"
      ],
      "metadata": {
        "id": "RenaD9g34Lwx"
      },
      "execution_count": 17,
      "outputs": []
    },
    {
      "cell_type": "code",
      "source": [
        "#Q8. Use a lambda function in Python to sort a list of tuples based on the second element of each tuple.\n",
        "\n",
        "t = (\"Sumit\",\"Gaurav\",\"Vivek\",\"Pooja\",\"Nisha\")\n",
        "sorted_tuples = sorted(t, key=lambda x: x[1])"
      ],
      "metadata": {
        "id": "OW7h9UTo44JN"
      },
      "execution_count": 19,
      "outputs": []
    },
    {
      "cell_type": "code",
      "source": [
        "sorted_tuples"
      ],
      "metadata": {
        "colab": {
          "base_uri": "https://localhost:8080/"
        },
        "id": "2Eeei8Gf5Pyd",
        "outputId": "9132aa55-0555-4c6f-b7dc-0a153ccbdd15"
      },
      "execution_count": 20,
      "outputs": [
        {
          "output_type": "execute_result",
          "data": {
            "text/plain": [
              "['Gaurav', 'Vivek', 'Nisha', 'Pooja', 'Sumit']"
            ]
          },
          "metadata": {},
          "execution_count": 20
        }
      ]
    },
    {
      "cell_type": "code",
      "source": [
        "#Q9. Write a Python program that uses `map()` to convert a list of temperatures from Celsius to Fahrenheit.\n",
        "\n",
        "Celsius = [23, 45, 49, 58]\n",
        "Fahrenheit = list(map(lambda x: (x * 9/5) + 32, Celsius))"
      ],
      "metadata": {
        "id": "MvS0SkGl6BkJ"
      },
      "execution_count": 22,
      "outputs": []
    },
    {
      "cell_type": "code",
      "source": [
        "Fahrenheit"
      ],
      "metadata": {
        "colab": {
          "base_uri": "https://localhost:8080/"
        },
        "id": "xm09xIPW6z1k",
        "outputId": "723ab6bc-c86e-4d2d-d534-237d546606f7"
      },
      "execution_count": 23,
      "outputs": [
        {
          "output_type": "execute_result",
          "data": {
            "text/plain": [
              "[73.4, 113.0, 120.2, 136.4]"
            ]
          },
          "metadata": {},
          "execution_count": 23
        }
      ]
    },
    {
      "cell_type": "code",
      "source": [
        "#Q10. Create a Python program that uses `filter()` to remove all the vowels from a given string.\n",
        "\n",
        "name = \"Gaurav\"\n",
        "vowels = ['a','e','i','o','u','A','E','I','O','U']\n",
        "filtered_name = list(filter(lambda x: x not in vowels, name))"
      ],
      "metadata": {
        "id": "h_xVZ2t064CQ"
      },
      "execution_count": 28,
      "outputs": []
    },
    {
      "cell_type": "code",
      "source": [
        "filtered_name"
      ],
      "metadata": {
        "colab": {
          "base_uri": "https://localhost:8080/"
        },
        "id": "C63VQNA27TvD",
        "outputId": "e5e84702-0f93-4e93-d568-e3e150aac1b7"
      },
      "execution_count": 29,
      "outputs": [
        {
          "output_type": "execute_result",
          "data": {
            "text/plain": [
              "['G', 'r', 'v']"
            ]
          },
          "metadata": {},
          "execution_count": 29
        }
      ]
    },
    {
      "cell_type": "code",
      "source": [
        "#Q11. Imagine an accounting routine used in a book shop. It works on a list with sublists, which look like this:\n",
        "'''\n",
        " Write a Python program, which returns a list with 2-tuples. Each tuple consists of the order number and the\n",
        "product of the price per item and the quantity. The product should be increased by 10,- € if the value of the\n",
        "order is smaller than 100,00 €.\n",
        "\n",
        "Write a Python program using lambda and map\n",
        "'''"
      ],
      "metadata": {
        "id": "vm_B1uhf7tva"
      },
      "execution_count": null,
      "outputs": []
    }
  ]
}